{
  "nbformat": 4,
  "nbformat_minor": 0,
  "metadata": {
    "colab": {
      "provenance": [],
      "include_colab_link": true
    },
    "kernelspec": {
      "name": "python3",
      "display_name": "Python 3"
    },
    "language_info": {
      "name": "python"
    }
  },
  "cells": [
    {
      "cell_type": "markdown",
      "metadata": {
        "id": "view-in-github",
        "colab_type": "text"
      },
      "source": [
        "<a href=\"https://colab.research.google.com/github/elaineleiyoung/statistical-arbitrage/blob/main/statistical_arbitrage.ipynb\" target=\"_parent\"><img src=\"https://colab.research.google.com/assets/colab-badge.svg\" alt=\"Open In Colab\"/></a>"
      ]
    },
    {
      "cell_type": "markdown",
      "source": [
        "Statistical Arbitrage Model: \n",
        "Pairs trading is a special form of statistical arbitrage where a portfolio has only two stocks. By combining two cointegrated stocks, we can construct a spread that is mean-reverting, even when these two stocks themselves are not. \n",
        "1.   Collect historical data on two stocks\n",
        "2.   Test for Cointegration\n",
        "3.   Calculate the spread\n",
        "4.   Trading Strategy\n",
        "5.   Backtesting\n",
        "\n"
      ],
      "metadata": {
        "id": "f-xhhWNWS9i5"
      }
    },
    {
      "cell_type": "code",
      "source": [
        "pip install yfinance"
      ],
      "metadata": {
        "colab": {
          "base_uri": "https://localhost:8080/"
        },
        "id": "llo0-F-9VBTe",
        "outputId": "091b8558-9a64-48bc-f692-287bc1bab235"
      },
      "execution_count": null,
      "outputs": [
        {
          "output_type": "stream",
          "name": "stdout",
          "text": [
            "Looking in indexes: https://pypi.org/simple, https://us-python.pkg.dev/colab-wheels/public/simple/\n",
            "Requirement already satisfied: yfinance in /usr/local/lib/python3.9/dist-packages (0.2.12)\n",
            "Requirement already satisfied: beautifulsoup4>=4.11.1 in /usr/local/lib/python3.9/dist-packages (from yfinance) (4.11.2)\n",
            "Requirement already satisfied: frozendict>=2.3.4 in /usr/local/lib/python3.9/dist-packages (from yfinance) (2.3.5)\n",
            "Requirement already satisfied: pandas>=1.3.0 in /usr/local/lib/python3.9/dist-packages (from yfinance) (1.4.4)\n",
            "Requirement already satisfied: lxml>=4.9.1 in /usr/local/lib/python3.9/dist-packages (from yfinance) (4.9.2)\n",
            "Requirement already satisfied: appdirs>=1.4.4 in /usr/local/lib/python3.9/dist-packages (from yfinance) (1.4.4)\n",
            "Requirement already satisfied: requests>=2.26 in /usr/local/lib/python3.9/dist-packages (from yfinance) (2.28.2)\n",
            "Requirement already satisfied: pytz>=2022.5 in /usr/local/lib/python3.9/dist-packages (from yfinance) (2022.7.1)\n",
            "Requirement already satisfied: numpy>=1.16.5 in /usr/local/lib/python3.9/dist-packages (from yfinance) (1.22.4)\n",
            "Requirement already satisfied: multitasking>=0.0.7 in /usr/local/lib/python3.9/dist-packages (from yfinance) (0.0.11)\n",
            "Requirement already satisfied: html5lib>=1.1 in /usr/local/lib/python3.9/dist-packages (from yfinance) (1.1)\n",
            "Requirement already satisfied: cryptography>=3.3.2 in /usr/local/lib/python3.9/dist-packages (from yfinance) (39.0.2)\n",
            "Requirement already satisfied: soupsieve>1.2 in /usr/local/lib/python3.9/dist-packages (from beautifulsoup4>=4.11.1->yfinance) (2.4)\n",
            "Requirement already satisfied: cffi>=1.12 in /usr/local/lib/python3.9/dist-packages (from cryptography>=3.3.2->yfinance) (1.15.1)\n",
            "Requirement already satisfied: six>=1.9 in /usr/local/lib/python3.9/dist-packages (from html5lib>=1.1->yfinance) (1.15.0)\n",
            "Requirement already satisfied: webencodings in /usr/local/lib/python3.9/dist-packages (from html5lib>=1.1->yfinance) (0.5.1)\n",
            "Requirement already satisfied: python-dateutil>=2.8.1 in /usr/local/lib/python3.9/dist-packages (from pandas>=1.3.0->yfinance) (2.8.2)\n",
            "Requirement already satisfied: charset-normalizer<4,>=2 in /usr/local/lib/python3.9/dist-packages (from requests>=2.26->yfinance) (3.1.0)\n",
            "Requirement already satisfied: urllib3<1.27,>=1.21.1 in /usr/local/lib/python3.9/dist-packages (from requests>=2.26->yfinance) (1.26.14)\n",
            "Requirement already satisfied: idna<4,>=2.5 in /usr/local/lib/python3.9/dist-packages (from requests>=2.26->yfinance) (2.10)\n",
            "Requirement already satisfied: certifi>=2017.4.17 in /usr/local/lib/python3.9/dist-packages (from requests>=2.26->yfinance) (2022.12.7)\n",
            "Requirement already satisfied: pycparser in /usr/local/lib/python3.9/dist-packages (from cffi>=1.12->cryptography>=3.3.2->yfinance) (2.21)\n"
          ]
        }
      ]
    },
    {
      "cell_type": "markdown",
      "source": [
        "### Downloading Market Data"
      ],
      "metadata": {
        "id": "Ei3v-PhnYYm3"
      }
    },
    {
      "cell_type": "code",
      "execution_count": null,
      "metadata": {
        "colab": {
          "base_uri": "https://localhost:8080/"
        },
        "id": "yuYtbHpVSruL",
        "outputId": "80b91dff-0b29-4da6-9c5b-f998aa92ba60"
      },
      "outputs": [
        {
          "output_type": "stream",
          "name": "stdout",
          "text": [
            "[*********************100%***********************]  2 of 2 completed\n",
            "Date\n",
            "2019-01-01     3843.520020\n",
            "2019-01-02     3943.409424\n",
            "2019-01-03     3836.741211\n",
            "2019-01-04     3857.717529\n",
            "2019-01-05     3845.194580\n",
            "                  ...     \n",
            "2022-02-17    40538.011719\n",
            "2022-02-18    40030.976562\n",
            "2022-02-19    40122.156250\n",
            "2022-02-20    38431.378906\n",
            "2022-02-21    37075.281250\n",
            "Name: BTC-USD, Length: 1148, dtype: float64\n",
            "Date\n",
            "2019-01-01     140.819412\n",
            "2019-01-02     155.047684\n",
            "2019-01-03     149.135010\n",
            "2019-01-04     154.581940\n",
            "2019-01-05     155.638596\n",
            "                 ...     \n",
            "2022-02-17    2881.481934\n",
            "2022-02-18    2785.727539\n",
            "2022-02-19    2763.701172\n",
            "2022-02-20    2628.648438\n",
            "2022-02-21    2573.816162\n",
            "Name: ETH-USD, Length: 1148, dtype: float64\n"
          ]
        }
      ],
      "source": [
        "import yfinance as yf\n",
        "\n",
        "# Set the ticker symbols for Bitcoin and Ethereum\n",
        "tickers = ['BTC-USD', 'ETH-USD']\n",
        "\n",
        "# Download market data from Yahoo Finance\n",
        "data = yf.download(tickers, start=\"2019-01-01\", end=\"2022-02-22\")\n",
        "\n",
        "# Extract the adjusted close prices for Bitcoin and Ethereum\n",
        "btc_prices = data['Adj Close']['BTC-USD']\n",
        "eth_prices = data['Adj Close']['ETH-USD']\n",
        "\n",
        "print(btc_prices)\n",
        "print(eth_prices)"
      ]
    },
    {
      "cell_type": "markdown",
      "source": [
        "### Analyzing Data"
      ],
      "metadata": {
        "id": "5KxmL0sbYyQR"
      }
    },
    {
      "cell_type": "code",
      "source": [
        "# calculating price difference: \n",
        "# subtract the daily closing price of Ethereum from the daily closing price of Bitcoin to get the price difference between the two assets\n",
        "price_diff = btc_prices - eth_prices\n",
        "print(price_diff)"
      ],
      "metadata": {
        "id": "cv-FArXkS7P9",
        "colab": {
          "base_uri": "https://localhost:8080/"
        },
        "outputId": "a9a91ac3-0e5e-4031-e4b1-b30b0684e4eb"
      },
      "execution_count": 10,
      "outputs": [
        {
          "output_type": "stream",
          "name": "stdout",
          "text": [
            "Date\n",
            "2019-01-01     3702.700607\n",
            "2019-01-02     3788.361740\n",
            "2019-01-03     3687.606201\n",
            "2019-01-04     3703.135590\n",
            "2019-01-05     3689.555984\n",
            "                  ...     \n",
            "2022-02-17    37656.529785\n",
            "2022-02-18    37245.249023\n",
            "2022-02-19    37358.455078\n",
            "2022-02-20    35802.730469\n",
            "2022-02-21    34501.465088\n",
            "Length: 1148, dtype: float64\n"
          ]
        }
      ]
    },
    {
      "cell_type": "markdown",
      "source": [],
      "metadata": {
        "id": "FdS-TYcXYRTM"
      }
    },
    {
      "cell_type": "code",
      "source": [
        "#run a z-test to determine when to short and buy each respective stock\n",
        "#copy pasted from https://medium.com/analytics-vidhya/statistical-arbitrage-with-pairs-trading-and-backtesting-ec657b25a368\n",
        "asset1 = 'BTC-USD'\n",
        "asset2 = 'ETH-USD'\n",
        "\n",
        "def zscore(series):\n",
        " return (series-series.mean()) / np.std(series)\n",
        "# create a dataframe for trading signals\n",
        "signals = pd.DataFrame()\n",
        "signals[asset1] = test_close[asset1] \n",
        "signals[asset2] = test_close[asset2]\n",
        "ratios = signals.asset1 / signals.asset2\n",
        "# calculate z-score and define upper and lower thresholds\n",
        "signals['z'] = zscore(ratios)\n",
        "signals['z upper limit'] = np.mean(signals['z']) + np.std(signals['z'])\n",
        "signals['z lower limit'] = np.mean(signals['z']) - np.std(signals['z'])\n",
        "# create signal - short if z-score is greater than upper limit else long\n",
        "signals['signals1'] = 0\n",
        "signals['signals1'] = np.select([signals['z'] > \\\n",
        "                                 signals['z upper limit'], signals['z'] < signals['z lower limit']], [-1, 1], default=0)\n",
        "# we take the first order difference to obtain portfolio position in that stock\n",
        "signals['positions1'] = signals['signals1'].diff()\n",
        "signals['signals2'] = -signals['signals1']\n",
        "signals['positions2'] = signals['signals2'].diff()\n",
        "# verify datafame head and tail\n",
        "signals.head(3).append(signals.tail(3))\n",
        "# visualize trading signals and position\n",
        "fig=plt.figure(figsize=(14,6))\n",
        "bx = fig.add_subplot(111)   \n",
        "bx2 = bx.twinx()\n",
        "#plot two different assets\n",
        "l1, = bx.plot(signals[''], c='#4abdac')\n",
        "l2, = bx2.plot(signals[asset2], c='#907163')\n",
        "u1, = bx.plot(signals[asset1][signals['positions1'] == 1], lw=0, marker='^', markersize=8, c='g',alpha=0.7)"
      ],
      "metadata": {
        "colab": {
          "base_uri": "https://localhost:8080/",
          "height": 236
        },
        "id": "0cNP7ADHaQUk",
        "outputId": "d5315524-c117-461f-fa33-92bac4e1ce09"
      },
      "execution_count": null,
      "outputs": [
        {
          "output_type": "error",
          "ename": "NameError",
          "evalue": "ignored",
          "traceback": [
            "\u001b[0;31m---------------------------------------------------------------------------\u001b[0m",
            "\u001b[0;31mNameError\u001b[0m                                 Traceback (most recent call last)",
            "\u001b[0;32m<ipython-input-7-dacd66d8259e>\u001b[0m in \u001b[0;36m<module>\u001b[0;34m\u001b[0m\n\u001b[1;32m      7\u001b[0m  \u001b[0;32mreturn\u001b[0m \u001b[0;34m(\u001b[0m\u001b[0mseries\u001b[0m\u001b[0;34m-\u001b[0m\u001b[0mseries\u001b[0m\u001b[0;34m.\u001b[0m\u001b[0mmean\u001b[0m\u001b[0;34m(\u001b[0m\u001b[0;34m)\u001b[0m\u001b[0;34m)\u001b[0m \u001b[0;34m/\u001b[0m \u001b[0mnp\u001b[0m\u001b[0;34m.\u001b[0m\u001b[0mstd\u001b[0m\u001b[0;34m(\u001b[0m\u001b[0mseries\u001b[0m\u001b[0;34m)\u001b[0m\u001b[0;34m\u001b[0m\u001b[0;34m\u001b[0m\u001b[0m\n\u001b[1;32m      8\u001b[0m \u001b[0;31m# create a dataframe for trading signals\u001b[0m\u001b[0;34m\u001b[0m\u001b[0;34m\u001b[0m\u001b[0m\n\u001b[0;32m----> 9\u001b[0;31m \u001b[0msignals\u001b[0m \u001b[0;34m=\u001b[0m \u001b[0mpd\u001b[0m\u001b[0;34m.\u001b[0m\u001b[0mDataFrame\u001b[0m\u001b[0;34m(\u001b[0m\u001b[0;34m)\u001b[0m\u001b[0;34m\u001b[0m\u001b[0;34m\u001b[0m\u001b[0m\n\u001b[0m\u001b[1;32m     10\u001b[0m \u001b[0msignals\u001b[0m\u001b[0;34m[\u001b[0m\u001b[0masset1\u001b[0m\u001b[0;34m]\u001b[0m \u001b[0;34m=\u001b[0m \u001b[0mtest_close\u001b[0m\u001b[0;34m[\u001b[0m\u001b[0masset1\u001b[0m\u001b[0;34m]\u001b[0m\u001b[0;34m\u001b[0m\u001b[0;34m\u001b[0m\u001b[0m\n\u001b[1;32m     11\u001b[0m \u001b[0msignals\u001b[0m\u001b[0;34m[\u001b[0m\u001b[0masset2\u001b[0m\u001b[0;34m]\u001b[0m \u001b[0;34m=\u001b[0m \u001b[0mtest_close\u001b[0m\u001b[0;34m[\u001b[0m\u001b[0masset2\u001b[0m\u001b[0;34m]\u001b[0m\u001b[0;34m\u001b[0m\u001b[0;34m\u001b[0m\u001b[0m\n",
            "\u001b[0;31mNameError\u001b[0m: name 'pd' is not defined"
          ]
        }
      ]
    }
  ]
}