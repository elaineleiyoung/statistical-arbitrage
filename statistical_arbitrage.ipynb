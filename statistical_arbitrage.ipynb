{
  "nbformat": 4,
  "nbformat_minor": 0,
  "metadata": {
    "colab": {
      "provenance": [],
      "include_colab_link": true
    },
    "kernelspec": {
      "name": "python3",
      "display_name": "Python 3"
    },
    "language_info": {
      "name": "python"
    }
  },
  "cells": [
    {
      "cell_type": "markdown",
      "metadata": {
        "id": "view-in-github",
        "colab_type": "text"
      },
      "source": [
        "<a href=\"https://colab.research.google.com/github/elaineleiyoung/statistical-arbitrage/blob/main/statistical_arbitrage.ipynb\" target=\"_parent\"><img src=\"https://colab.research.google.com/assets/colab-badge.svg\" alt=\"Open In Colab\"/></a>"
      ]
    },
    {
      "cell_type": "markdown",
      "source": [
        "Statistical Arbitrage Model: \n",
        "Pairs trading is a special form of statistical arbitrage where a portfolio has only two stocks. By combining two cointegrated stocks, we can construct a spread that is mean-reverting, even when these two stocks themselves are not. \n",
        "1.   Collect historical data on two stocks\n",
        "2.   Test for Cointegration\n",
        "3.   Calculate the spread\n",
        "4.   Trading Strategy\n",
        "5.   Backtesting\n",
        "\n"
      ],
      "metadata": {
        "id": "f-xhhWNWS9i5"
      }
    },
    {
      "cell_type": "code",
      "source": [
        "pip install yfinance"
      ],
      "metadata": {
        "colab": {
          "base_uri": "https://localhost:8080/"
        },
        "id": "llo0-F-9VBTe",
        "outputId": "6465ea64-6158-4b3a-80ad-3d1755d31b5d"
      },
      "execution_count": null,
      "outputs": [
        {
          "output_type": "stream",
          "name": "stdout",
          "text": [
            "Looking in indexes: https://pypi.org/simple, https://us-python.pkg.dev/colab-wheels/public/simple/\n",
            "Collecting yfinance\n",
            "  Downloading yfinance-0.2.12-py2.py3-none-any.whl (59 kB)\n",
            "\u001b[2K     \u001b[90m━━━━━━━━━━━━━━━━━━━━━━━━━━━━━━━━━━━━━━━━\u001b[0m \u001b[32m59.2/59.2 KB\u001b[0m \u001b[31m3.0 MB/s\u001b[0m eta \u001b[36m0:00:00\u001b[0m\n",
            "\u001b[?25hRequirement already satisfied: multitasking>=0.0.7 in /usr/local/lib/python3.9/dist-packages (from yfinance) (0.0.11)\n",
            "Requirement already satisfied: html5lib>=1.1 in /usr/local/lib/python3.9/dist-packages (from yfinance) (1.1)\n",
            "Requirement already satisfied: lxml>=4.9.1 in /usr/local/lib/python3.9/dist-packages (from yfinance) (4.9.2)\n",
            "Requirement already satisfied: requests>=2.26 in /usr/local/lib/python3.9/dist-packages (from yfinance) (2.27.1)\n",
            "Requirement already satisfied: numpy>=1.16.5 in /usr/local/lib/python3.9/dist-packages (from yfinance) (1.22.4)\n",
            "Requirement already satisfied: pytz>=2022.5 in /usr/local/lib/python3.9/dist-packages (from yfinance) (2022.7.1)\n",
            "Requirement already satisfied: pandas>=1.3.0 in /usr/local/lib/python3.9/dist-packages (from yfinance) (1.4.4)\n",
            "Collecting appdirs>=1.4.4\n",
            "  Downloading appdirs-1.4.4-py2.py3-none-any.whl (9.6 kB)\n",
            "Requirement already satisfied: beautifulsoup4>=4.11.1 in /usr/local/lib/python3.9/dist-packages (from yfinance) (4.11.2)\n",
            "Collecting frozendict>=2.3.4\n",
            "  Downloading frozendict-2.3.5-cp39-cp39-manylinux_2_17_x86_64.manylinux2014_x86_64.whl (112 kB)\n",
            "\u001b[2K     \u001b[90m━━━━━━━━━━━━━━━━━━━━━━━━━━━━━━━━━━━━━━━\u001b[0m \u001b[32m112.8/112.8 KB\u001b[0m \u001b[31m9.8 MB/s\u001b[0m eta \u001b[36m0:00:00\u001b[0m\n",
            "\u001b[?25hCollecting cryptography>=3.3.2\n",
            "  Downloading cryptography-39.0.2-cp36-abi3-manylinux_2_28_x86_64.whl (4.2 MB)\n",
            "\u001b[2K     \u001b[90m━━━━━━━━━━━━━━━━━━━━━━━━━━━━━━━━━━━━━━━━\u001b[0m \u001b[32m4.2/4.2 MB\u001b[0m \u001b[31m60.5 MB/s\u001b[0m eta \u001b[36m0:00:00\u001b[0m\n",
            "\u001b[?25hRequirement already satisfied: soupsieve>1.2 in /usr/local/lib/python3.9/dist-packages (from beautifulsoup4>=4.11.1->yfinance) (2.4)\n",
            "Requirement already satisfied: cffi>=1.12 in /usr/local/lib/python3.9/dist-packages (from cryptography>=3.3.2->yfinance) (1.15.1)\n",
            "Requirement already satisfied: webencodings in /usr/local/lib/python3.9/dist-packages (from html5lib>=1.1->yfinance) (0.5.1)\n",
            "Requirement already satisfied: six>=1.9 in /usr/local/lib/python3.9/dist-packages (from html5lib>=1.1->yfinance) (1.15.0)\n",
            "Requirement already satisfied: python-dateutil>=2.8.1 in /usr/local/lib/python3.9/dist-packages (from pandas>=1.3.0->yfinance) (2.8.2)\n",
            "Requirement already satisfied: urllib3<1.27,>=1.21.1 in /usr/local/lib/python3.9/dist-packages (from requests>=2.26->yfinance) (1.26.15)\n",
            "Requirement already satisfied: idna<4,>=2.5 in /usr/local/lib/python3.9/dist-packages (from requests>=2.26->yfinance) (3.4)\n",
            "Requirement already satisfied: certifi>=2017.4.17 in /usr/local/lib/python3.9/dist-packages (from requests>=2.26->yfinance) (2022.12.7)\n",
            "Requirement already satisfied: charset-normalizer~=2.0.0 in /usr/local/lib/python3.9/dist-packages (from requests>=2.26->yfinance) (2.0.12)\n",
            "Requirement already satisfied: pycparser in /usr/local/lib/python3.9/dist-packages (from cffi>=1.12->cryptography>=3.3.2->yfinance) (2.21)\n",
            "Installing collected packages: appdirs, frozendict, cryptography, yfinance\n",
            "Successfully installed appdirs-1.4.4 cryptography-39.0.2 frozendict-2.3.5 yfinance-0.2.12\n"
          ]
        }
      ]
    },
    {
      "cell_type": "markdown",
      "source": [
        "### Downloading Market Data"
      ],
      "metadata": {
        "id": "Ei3v-PhnYYm3"
      }
    },
    {
      "cell_type": "code",
      "execution_count": null,
      "metadata": {
        "colab": {
          "base_uri": "https://localhost:8080/"
        },
        "id": "yuYtbHpVSruL",
        "outputId": "1fb4b7b7-f6e1-4911-ff64-6ce88f5591a1"
      },
      "outputs": [
        {
          "output_type": "stream",
          "name": "stdout",
          "text": [
            "[*********************100%***********************]  2 of 2 completed\n",
            "Date\n",
            "2019-01-01     3843.520020\n",
            "2019-01-02     3943.409424\n",
            "2019-01-03     3836.741211\n",
            "2019-01-04     3857.717529\n",
            "2019-01-05     3845.194580\n",
            "                  ...     \n",
            "2022-02-17    40538.011719\n",
            "2022-02-18    40030.976562\n",
            "2022-02-19    40122.156250\n",
            "2022-02-20    38431.378906\n",
            "2022-02-21    37075.281250\n",
            "Name: BTC-USD, Length: 1148, dtype: float64\n",
            "Date\n",
            "2019-01-01     140.819412\n",
            "2019-01-02     155.047684\n",
            "2019-01-03     149.135010\n",
            "2019-01-04     154.581940\n",
            "2019-01-05     155.638596\n",
            "                 ...     \n",
            "2022-02-17    2881.481934\n",
            "2022-02-18    2785.727539\n",
            "2022-02-19    2763.701172\n",
            "2022-02-20    2628.648438\n",
            "2022-02-21    2573.816162\n",
            "Name: ETH-USD, Length: 1148, dtype: float64\n"
          ]
        }
      ],
      "source": [
        "import yfinance as yf\n",
        "import datetime\n",
        "\n",
        "# Set the ticker symbols for Bitcoin and Ethereum\n",
        "tickers = ['BTC-USD', 'ETH-USD']\n",
        "\n",
        "# Download market data from Yahoo Finance\n",
        "data = yf.download(tickers, start=\"2019-01-01\", end=\"2022-02-22\")\n",
        "startdate = datetime.datetime(2019, 1, 1)\n",
        "todate = datetime.datetime(2022, 2, 22)\n",
        "\n",
        "# Extract the adjusted close prices for Bitcoin and Ethereum\n",
        "btc_prices = data['Adj Close']['BTC-USD']\n",
        "eth_prices = data['Adj Close']['ETH-USD']\n",
        "\n",
        "print(btc_prices)\n",
        "print(eth_prices)"
      ]
    },
    {
      "cell_type": "markdown",
      "source": [
        "### Analyzing Data"
      ],
      "metadata": {
        "id": "5KxmL0sbYyQR"
      }
    },
    {
      "cell_type": "code",
      "source": [
        "# calculating price difference: \n",
        "# subtract the daily closing price of Ethereum from the daily closing price of Bitcoin to get the price difference between the two assets\n",
        "price_diff = btc_prices - eth_prices\n",
        "print(price_diff)"
      ],
      "metadata": {
        "id": "cv-FArXkS7P9",
        "colab": {
          "base_uri": "https://localhost:8080/"
        },
        "outputId": "b9a4b0e6-84fa-4e6f-a278-645ec1cd1519"
      },
      "execution_count": null,
      "outputs": [
        {
          "output_type": "stream",
          "name": "stdout",
          "text": [
            "Date\n",
            "2019-01-01     3702.700607\n",
            "2019-01-02     3788.361740\n",
            "2019-01-03     3687.606201\n",
            "2019-01-04     3703.135590\n",
            "2019-01-05     3689.555984\n",
            "                  ...     \n",
            "2022-02-17    37656.529785\n",
            "2022-02-18    37245.249023\n",
            "2022-02-19    37358.455078\n",
            "2022-02-20    35802.730469\n",
            "2022-02-21    34501.465088\n",
            "Length: 1148, dtype: float64\n"
          ]
        }
      ]
    },
    {
      "cell_type": "markdown",
      "source": [
        "### Plotting price difference"
      ],
      "metadata": {
        "id": "FdS-TYcXYRTM"
      }
    },
    {
      "cell_type": "code",
      "source": [
        "# imports\n",
        "import pandas as pd\n",
        "import numpy as np\n",
        "import matplotlib.pyplot as plt"
      ],
      "metadata": {
        "id": "maFOGeSZdyUx"
      },
      "execution_count": null,
      "outputs": []
    },
    {
      "cell_type": "code",
      "source": [
        "#graphing the prices and the difference between the prices\n",
        "df = pd.DataFrame(data=price_diff)\n",
        "dfb = pd.DataFrame(data=btc_prices)\n",
        "dfe = pd.DataFrame(data=eth_prices)\n",
        "plt.plot(df)\n",
        "plt.plot(dfb)\n",
        "plt.plot(dfe)\n",
        "plt.xlabel('Date')\n",
        "plt.ylabel('Price')\n",
        "plt.show()"
      ],
      "metadata": {
        "colab": {
          "base_uri": "https://localhost:8080/",
          "height": 281
        },
        "id": "3z-7E0-8y3gE",
        "outputId": "73b0d373-0bf9-46cb-f08c-64f0475945e0"
      },
      "execution_count": null,
      "outputs": [
        {
          "output_type": "display_data",
          "data": {
            "text/plain": [
              "<Figure size 432x288 with 1 Axes>"
            ],
            "image/png": "[encoded data removed]"
          },
          "metadata": {
            "needs_background": "light"
          }
        }
      ]
    },
    {
      "cell_type": "code",
      "source": [
        "#z-score test: use z-score test of ratio between two stock prices, generate trading signals AND upper/lower thresholds\n",
        "#if positive relative to population mean value, value is above upper thresholds, then stock price is higher than average price\n",
        "#therefore, we want to short this!\n",
        "\n",
        "import pandas as pd\n",
        "import numpy as np\n",
        "import matplotlib.pyplot as plt\n",
        "\n",
        "#calculate z-score\n",
        "def zscore(series):\n",
        "  return (series - series.mean())/np.std(series)\n",
        "\n",
        "#create a dataframe for trading signals\n",
        "signals = pd.DataFrame()\n",
        "signals['BTC-USD'] = dfb\n",
        "signals['ETH-USD'] = dfe\n",
        "\n",
        "display(signals)\n",
        "\n",
        "ratios = signals.'BTC-USD'/signals.ETH-USD\n",
        "\n",
        "#calculate z-score\n",
        "signals['z'] = zscore(ratios)\n",
        "signals['z upper limit'] = np.mean(signals['z']) + np.std(signals['z'])\n",
        "signals['z lower limit'] = np.mean(signals['z']) + np.std(signals['z'])\n",
        "\n",
        "signals['signals1'] = 0\n",
        "signals['signals1'] = np.select([signals['z'] > signals['z upper limit'], signals['z'] < signals['z lower limit']], [-1,1], default=0) \n",
        "\n",
        "#take first order differences to obtain portfolio positions\n",
        "signals['positions1'] = signals['signals1'].diff()\n",
        "signals['signals2'] = -signals['signals1']\n",
        "signals['positions2'] = signals['signals2'].diff()\n",
        "\n",
        "#verify dataframe head and tail\n",
        "signals.head(3).append(signals.tail(3))\n",
        "\n",
        "# visualize trading signals and position\n",
        "fig = plt.figure(figsize=(14,6))\n",
        "bx = fig.add_subplot(111)\n",
        "bx2 = bx.twinx()\n",
        "\n",
        "l1, = bx.plot(signals['BTC-USD'], c='#4abdac')\n",
        "l2, = bx2.plot(signals['ETH-USD'], c='#907163')\n",
        "\n",
        "u1, = bx.plot(signals['BTC-USD'][signals['positions1'] == 1], lw=0, marker='^', markersize=8, c='g', alpha=0.7)\n",
        "\n"
      ],
      "metadata": {
        "id": "UFP2Borh1QmT",
        "colab": {
          "base_uri": "https://localhost:8080/",
          "height": 133
        },
        "outputId": "93e137c6-3805-4dba-b877-4589663d084b"
      },
      "execution_count": 1,
      "outputs": [
        {
          "output_type": "error",
          "ename": "SyntaxError",
          "evalue": "ignored",
          "traceback": [
            "\u001b[0;36m  File \u001b[0;32m\"<ipython-input-1-2c6630d40bf8>\"\u001b[0;36m, line \u001b[0;32m20\u001b[0m\n\u001b[0;31m    ratios = signals.'BTC-USD'/signals.ETH-USD\u001b[0m\n\u001b[0m                     ^\u001b[0m\n\u001b[0;31mSyntaxError\u001b[0m\u001b[0;31m:\u001b[0m invalid syntax\n"
          ]
        }
      ]
    },
    {
      "cell_type": "code",
      "source": [],
      "metadata": {
        "colab": {
          "base_uri": "https://localhost:8080/",
          "height": 236
        },
        "id": "0cNP7ADHaQUk",
        "outputId": "0517c720-b817-4775-c579-7ef1fa3c4eba"
      },
      "execution_count": null,
      "outputs": [
        {
          "output_type": "error",
          "ename": "NameError",
          "evalue": "ignored",
          "traceback": [
            "\u001b[0;31m---------------------------------------------------------------------------\u001b[0m",
            "\u001b[0;31mNameError\u001b[0m                                 Traceback (most recent call last)",
            "\u001b[0;32m<ipython-input-1-dacd66d8259e>\u001b[0m in \u001b[0;36m<module>\u001b[0;34m\u001b[0m\n\u001b[1;32m      7\u001b[0m  \u001b[0;32mreturn\u001b[0m \u001b[0;34m(\u001b[0m\u001b[0mseries\u001b[0m\u001b[0;34m-\u001b[0m\u001b[0mseries\u001b[0m\u001b[0;34m.\u001b[0m\u001b[0mmean\u001b[0m\u001b[0;34m(\u001b[0m\u001b[0;34m)\u001b[0m\u001b[0;34m)\u001b[0m \u001b[0;34m/\u001b[0m \u001b[0mnp\u001b[0m\u001b[0;34m.\u001b[0m\u001b[0mstd\u001b[0m\u001b[0;34m(\u001b[0m\u001b[0mseries\u001b[0m\u001b[0;34m)\u001b[0m\u001b[0;34m\u001b[0m\u001b[0;34m\u001b[0m\u001b[0m\n\u001b[1;32m      8\u001b[0m \u001b[0;31m# create a dataframe for trading signals\u001b[0m\u001b[0;34m\u001b[0m\u001b[0;34m\u001b[0m\u001b[0m\n\u001b[0;32m----> 9\u001b[0;31m \u001b[0msignals\u001b[0m \u001b[0;34m=\u001b[0m \u001b[0mpd\u001b[0m\u001b[0;34m.\u001b[0m\u001b[0mDataFrame\u001b[0m\u001b[0;34m(\u001b[0m\u001b[0;34m)\u001b[0m\u001b[0;34m\u001b[0m\u001b[0;34m\u001b[0m\u001b[0m\n\u001b[0m\u001b[1;32m     10\u001b[0m \u001b[0msignals\u001b[0m\u001b[0;34m[\u001b[0m\u001b[0masset1\u001b[0m\u001b[0;34m]\u001b[0m \u001b[0;34m=\u001b[0m \u001b[0mtest_close\u001b[0m\u001b[0;34m[\u001b[0m\u001b[0masset1\u001b[0m\u001b[0;34m]\u001b[0m\u001b[0;34m\u001b[0m\u001b[0;34m\u001b[0m\u001b[0m\n\u001b[1;32m     11\u001b[0m \u001b[0msignals\u001b[0m\u001b[0;34m[\u001b[0m\u001b[0masset2\u001b[0m\u001b[0;34m]\u001b[0m \u001b[0;34m=\u001b[0m \u001b[0mtest_close\u001b[0m\u001b[0;34m[\u001b[0m\u001b[0masset2\u001b[0m\u001b[0;34m]\u001b[0m\u001b[0;34m\u001b[0m\u001b[0;34m\u001b[0m\u001b[0m\n",
            "\u001b[0;31mNameError\u001b[0m: name 'pd' is not defined"
          ]
        }
      ]
    }
  ]
}